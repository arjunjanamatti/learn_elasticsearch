{
 "cells": [
  {
   "cell_type": "code",
   "execution_count": 1,
   "metadata": {
    "ExecuteTime": {
     "end_time": "2021-01-20T16:55:36.695174Z",
     "start_time": "2021-01-20T16:55:35.944379Z"
    }
   },
   "outputs": [
    {
     "name": "stdout",
     "output_type": "stream",
     "text": [
      "All libraries loaded successfully\n"
     ]
    }
   ],
   "source": [
    "try:\n",
    "    import elasticsearch\n",
    "    from elasticsearch import Elasticsearch\n",
    "    import pandas as pd\n",
    "    import json\n",
    "    from ast import literal_eval\n",
    "    from tqdm import tqdm\n",
    "    import datetime\n",
    "    import os\n",
    "    import sys\n",
    "    import numpy as np\n",
    "    from elasticsearch import helpers\n",
    "    print('All libraries loaded successfully')\n",
    "    \n",
    "except Exception as e:\n",
    "    print(e)"
   ]
  },
  {
   "cell_type": "code",
   "execution_count": 2,
   "metadata": {
    "ExecuteTime": {
     "end_time": "2021-01-20T16:55:36.741635Z",
     "start_time": "2021-01-20T16:55:36.697705Z"
    }
   },
   "outputs": [
    {
     "name": "stdout",
     "output_type": "stream",
     "text": [
      "Connected \n"
     ]
    }
   ],
   "source": [
    "def connect_elasticsearch():\n",
    "    es = None\n",
    "    es = Elasticsearch([{'host': 'localhost', 'port': 9200}])\n",
    "    if es.ping():\n",
    "        print('Connected ')\n",
    "    else:\n",
    "        print('Could not connect!')\n",
    "    return es\n",
    "es = connect_elasticsearch()"
   ]
  },
  {
   "cell_type": "code",
   "execution_count": 3,
   "metadata": {
    "ExecuteTime": {
     "end_time": "2021-01-20T16:55:37.034354Z",
     "start_time": "2021-01-20T16:55:36.743531Z"
    }
   },
   "outputs": [],
   "source": [
    "df = pd.read_csv('netflix_titles.csv')\n",
    "# drop all the null values\n",
    "df = df.dropna()\n",
    "# convert a dataframe to dictionary\n",
    "df_dict = df.to_dict('records')\n",
    "\n",
    "def generator(index_name, df):\n",
    "    for item, line in enumerate(df):\n",
    "        yield{\n",
    "            '_index': index_name,\n",
    "            '_type': '_doc',\n",
    "            '_id': line.get('show_id', None),\n",
    "            '_source': {\n",
    "                'title': line.get('title', ''),\n",
    "                'director': line.get('director', ''),\n",
    "                'cast': line.get('cast', ''),\n",
    "                'country': line.get('country', ''),\n",
    "                'release_year': line.get('release_year', '')\n",
    "            }\n",
    "        }\n",
    "    raise StopIteration\n",
    "    \n",
    "settings = {\n",
    "    'settings':{\n",
    "        'number_of_shards':1,\n",
    "        'number_of_replicas':0\n",
    "    },\n",
    "    'mappings':{\n",
    "        'properties':{\n",
    "            'director':{\n",
    "                'type': 'text'\n",
    "                \n",
    "            },\n",
    "            'cast':{\n",
    "                'type': 'text'\n",
    "            }\n",
    "            \n",
    "        }\n",
    "    }\n",
    "}\n",
    "    \n",
    "my = es.indices.create(index = 'netflix_titles_elk', \n",
    "                       ignore = [404, 400], \n",
    "                       body = settings)"
   ]
  },
  {
   "cell_type": "code",
   "execution_count": 4,
   "metadata": {
    "ExecuteTime": {
     "end_time": "2021-01-20T16:55:37.695919Z",
     "start_time": "2021-01-20T16:55:37.038128Z"
    }
   },
   "outputs": [
    {
     "name": "stderr",
     "output_type": "stream",
     "text": [
      "C:\\Users\\Arjun Janamatti\\Anaconda3\\envs\\tf_nptel\\lib\\site-packages\\elasticsearch\\connection\\base.py:193: ElasticsearchDeprecationWarning: [types removal] Specifying types in bulk requests is deprecated.\n",
      "  warnings.warn(message, category=ElasticsearchDeprecationWarning)\n"
     ]
    },
    {
     "name": "stdout",
     "output_type": "stream",
     "text": [
      "completed\n"
     ]
    }
   ],
   "source": [
    "index_name = 'netflix_titles_elk'\n",
    "try:\n",
    "    res = helpers.bulk(client = es, \n",
    "                       actions = generator(index_name, df_dict))\n",
    "    print('completed')\n",
    "except Exception as e:\n",
    "    print(e)\n",
    "    pass"
   ]
  },
  {
   "cell_type": "code",
   "execution_count": 5,
   "metadata": {
    "ExecuteTime": {
     "end_time": "2021-01-20T16:55:37.711382Z",
     "start_time": "2021-01-20T16:55:37.698844Z"
    }
   },
   "outputs": [],
   "source": [
    "# query\n",
    "\n",
    "\n",
    "myquey = {\n",
    "   \"_source\": [],\n",
    "   \"size\": 10,\n",
    "   \"query\": {\n",
    "      \"bool\": {\n",
    "         \"must\": [],\n",
    "         \"filter\": [\n",
    "            {\n",
    "               \"exists\": {\n",
    "                  \"field\": \"director\"\n",
    "               }\n",
    "            }\n",
    "         ],\n",
    "         \"should\": [\n",
    "            {\n",
    "               \"match\": {\n",
    "                  \"director\": \"Vikram\"\n",
    "               }\n",
    "            }\n",
    "         ],\n",
    "         \"must_not\": []\n",
    "      }\n",
    "   }\n",
    "}\n",
    "\n"
   ]
  },
  {
   "cell_type": "code",
   "execution_count": 8,
   "metadata": {
    "ExecuteTime": {
     "end_time": "2021-01-20T16:56:45.152437Z",
     "start_time": "2021-01-20T16:56:45.140191Z"
    }
   },
   "outputs": [],
   "source": [
    "res = es.search(\n",
    "  index = 'netflix_titles_elk',\n",
    "  scroll = '2m',\n",
    "  size = 10,\n",
    "  body = myquey)"
   ]
  },
  {
   "cell_type": "code",
   "execution_count": 9,
   "metadata": {
    "ExecuteTime": {
     "end_time": "2021-01-20T16:56:45.801258Z",
     "start_time": "2021-01-20T16:56:45.774223Z"
    },
    "scrolled": false
   },
   "outputs": [
    {
     "data": {
      "text/plain": [
       "{'_scroll_id': 'DXF1ZXJ5QW5kRmV0Y2gBAAAAAAAABx0WZnNDUkR3ZDBTSnVVdFN1bXYtVmN0QQ==',\n",
       " 'took': 2,\n",
       " 'timed_out': False,\n",
       " '_shards': {'total': 1, 'successful': 1, 'skipped': 0, 'failed': 0},\n",
       " 'hits': {'total': {'value': 4804, 'relation': 'eq'},\n",
       "  'max_score': 7.263006,\n",
       "  'hits': [{'_index': 'netflix_titles_elk',\n",
       "    '_type': '_doc',\n",
       "    '_id': 's10',\n",
       "    '_score': 7.263006,\n",
       "    '_source': {'title': '1920',\n",
       "     'director': 'Vikram Bhatt',\n",
       "     'cast': 'Rajneesh Duggal, Adah Sharma, Indraneil Sengupta, Anjori Alagh, Rajendranath Zutshi, Vipin Sharma, Amin Hajee, Shri Vallabh Vyas',\n",
       "     'country': 'India',\n",
       "     'release_year': 2008.0}},\n",
       "   {'_index': 'netflix_titles_elk',\n",
       "    '_type': '_doc',\n",
       "    '_id': 's756',\n",
       "    '_score': 7.263006,\n",
       "    '_source': {'title': 'Barry',\n",
       "     'director': 'Vikram Gandhi',\n",
       "     'cast': 'Devon Terrell, Anya Taylor-Joy, Jason Mitchell, Ashley Judd, Jenna Elfman, Ellar Coltrane, Avi Nash, Linus Roache, John Benjamin Hickey',\n",
       "     'country': 'United States',\n",
       "     'release_year': 2016.0}},\n",
       "   {'_index': 'netflix_titles_elk',\n",
       "    '_type': '_doc',\n",
       "    '_id': 's5400',\n",
       "    '_score': 7.263006,\n",
       "    '_source': {'title': 'Sat Shri Akaal England',\n",
       "     'director': 'Vikram Pradhan',\n",
       "     'cast': 'Ammy Virk, Monica Gill, Karamjit Anmol, Sardar Sohi, Jarnail Singh, Satwant Kaur, Harby Sangha, Baljinder Darapuri',\n",
       "     'country': 'India',\n",
       "     'release_year': 2017.0}},\n",
       "   {'_index': 'netflix_titles_elk',\n",
       "    '_type': '_doc',\n",
       "    '_id': 's3217',\n",
       "    '_score': 6.1386795,\n",
       "    '_source': {'title': 'Jonaki',\n",
       "     'director': 'Aditya Vikram Sengupta',\n",
       "     'cast': 'Lolita Chatterjee, Sumanto Chattopadhyay, Ratnabali Bhattacharjee, Jim Sarbh, Indrajit Sinha, Sandershika Tamang, Arunima Sinha, Satya Priya Chakraborty, Christel Das, Burjor Patel',\n",
       "     'country': 'India',\n",
       "     'release_year': 2018.0}},\n",
       "   {'_index': 'netflix_titles_elk',\n",
       "    '_type': '_doc',\n",
       "    '_id': 's2952',\n",
       "    '_score': 4.1919255,\n",
       "    '_source': {'title': 'Imago',\n",
       "     'director': 'Karan Shivajirao Chavan, Vikram Tanajirao Patil',\n",
       "     'cast': 'Aishwarya Ghaydar, Amol Deshmukh, Adarsh Kurne, Vishwas Kamble, Neha Awati, Amaraja Patil, Rinkle Chopde, Shreyas Gurav',\n",
       "     'country': 'India',\n",
       "     'release_year': 2018.0}},\n",
       "   {'_index': 'netflix_titles_elk',\n",
       "    '_type': '_doc',\n",
       "    '_id': 's2',\n",
       "    '_score': 0.0,\n",
       "    '_source': {'title': '07:19',\n",
       "     'director': 'Jorge Michel Grau',\n",
       "     'cast': 'Demián Bichir, Héctor Bonilla, Oscar Serrano, Azalia Ortiz, Octavio Michel, Carmen Beato',\n",
       "     'country': 'Mexico',\n",
       "     'release_year': 2016.0}},\n",
       "   {'_index': 'netflix_titles_elk',\n",
       "    '_type': '_doc',\n",
       "    '_id': 's3',\n",
       "    '_score': 0.0,\n",
       "    '_source': {'title': '23:59',\n",
       "     'director': 'Gilbert Chan',\n",
       "     'cast': 'Tedd Chan, Stella Chung, Henley Hii, Lawrence Koh, Tommy Kuan, Josh Lai, Mark Lee, Susan Leong, Benjamin Lim',\n",
       "     'country': 'Singapore',\n",
       "     'release_year': 2011.0}},\n",
       "   {'_index': 'netflix_titles_elk',\n",
       "    '_type': '_doc',\n",
       "    '_id': 's4',\n",
       "    '_score': 0.0,\n",
       "    '_source': {'title': '9',\n",
       "     'director': 'Shane Acker',\n",
       "     'cast': 'Elijah Wood, John C. Reilly, Jennifer Connelly, Christopher Plummer, Crispin Glover, Martin Landau, Fred Tatasciore, Alan Oppenheimer, Tom Kane',\n",
       "     'country': 'United States',\n",
       "     'release_year': 2009.0}},\n",
       "   {'_index': 'netflix_titles_elk',\n",
       "    '_type': '_doc',\n",
       "    '_id': 's5',\n",
       "    '_score': 0.0,\n",
       "    '_source': {'title': '21',\n",
       "     'director': 'Robert Luketic',\n",
       "     'cast': 'Jim Sturgess, Kevin Spacey, Kate Bosworth, Aaron Yoo, Liza Lapira, Jacob Pitts, Laurence Fishburne, Jack McGee, Josh Gad, Sam Golzari, Helen Carey, Jack Gilpin',\n",
       "     'country': 'United States',\n",
       "     'release_year': 2008.0}},\n",
       "   {'_index': 'netflix_titles_elk',\n",
       "    '_type': '_doc',\n",
       "    '_id': 's6',\n",
       "    '_score': 0.0,\n",
       "    '_source': {'title': '46',\n",
       "     'director': 'Serdar Akar',\n",
       "     'cast': 'Erdal Beşikçioğlu, Yasemin Allen, Melis Birkan, Saygın Soysal, Berkan Şal, Metin Belgin, Ayça Eren, Selin Uludoğan, Özay Fecht, Suna Yıldızoğlu',\n",
       "     'country': 'Turkey',\n",
       "     'release_year': 2016.0}}]}}"
      ]
     },
     "execution_count": 9,
     "metadata": {},
     "output_type": "execute_result"
    }
   ],
   "source": [
    "res"
   ]
  },
  {
   "cell_type": "code",
   "execution_count": null,
   "metadata": {},
   "outputs": [],
   "source": []
  }
 ],
 "metadata": {
  "kernelspec": {
   "display_name": "Python 3",
   "language": "python",
   "name": "python3"
  },
  "language_info": {
   "codemirror_mode": {
    "name": "ipython",
    "version": 3
   },
   "file_extension": ".py",
   "mimetype": "text/x-python",
   "name": "python",
   "nbconvert_exporter": "python",
   "pygments_lexer": "ipython3",
   "version": "3.6.10"
  },
  "varInspector": {
   "cols": {
    "lenName": 16,
    "lenType": 16,
    "lenVar": 40
   },
   "kernels_config": {
    "python": {
     "delete_cmd_postfix": "",
     "delete_cmd_prefix": "del ",
     "library": "var_list.py",
     "varRefreshCmd": "print(var_dic_list())"
    },
    "r": {
     "delete_cmd_postfix": ") ",
     "delete_cmd_prefix": "rm(",
     "library": "var_list.r",
     "varRefreshCmd": "cat(var_dic_list()) "
    }
   },
   "types_to_exclude": [
    "module",
    "function",
    "builtin_function_or_method",
    "instance",
    "_Feature"
   ],
   "window_display": false
  }
 },
 "nbformat": 4,
 "nbformat_minor": 4
}
